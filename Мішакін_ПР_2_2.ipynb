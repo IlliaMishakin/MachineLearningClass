{
  "metadata": {
    "language_info": {
      "codemirror_mode": {
        "name": "python",
        "version": 3
      },
      "file_extension": ".py",
      "mimetype": "text/x-python",
      "name": "python",
      "nbconvert_exporter": "python",
      "pygments_lexer": "ipython3",
      "version": "3.8"
    },
    "kernelspec": {
      "name": "python",
      "display_name": "Python (Pyodide)",
      "language": "python"
    }
  },
  "nbformat_minor": 4,
  "nbformat": 4,
  "cells": [
    {
      "cell_type": "code",
      "source": "import pandas as pd\nimport matplotlib as plt",
      "metadata": {
        "trusted": true
      },
      "execution_count": 1,
      "outputs": []
    },
    {
      "cell_type": "code",
      "source": "amazon_data = pd.read_csv('data/bestsellers with categories.csv')\namazon_data.columns = ['name', 'author', 'user_rating', 'reviews', 'price', 'year', 'genre']\namazon_data.head()",
      "metadata": {
        "trusted": true
      },
      "execution_count": 7,
      "outputs": [
        {
          "execution_count": 7,
          "output_type": "execute_result",
          "data": {
            "text/plain": "                                                name  \\\n0                      10-Day Green Smoothie Cleanse   \n1                                  11/22/63: A Novel   \n2            12 Rules for Life: An Antidote to Chaos   \n3                             1984 (Signet Classics)   \n4  5,000 Awesome Facts (About Everything!) (Natio...   \n\n                     author  user_rating  reviews  price  year        genre  \n0                  JJ Smith          4.7    17350      8  2016  Non Fiction  \n1              Stephen King          4.6     2052     22  2011      Fiction  \n2        Jordan B. Peterson          4.7    18979     15  2018  Non Fiction  \n3             George Orwell          4.7    21424      6  2017      Fiction  \n4  National Geographic Kids          4.8     7665     12  2019  Non Fiction  ",
            "text/html": "<div>\n<style scoped>\n    .dataframe tbody tr th:only-of-type {\n        vertical-align: middle;\n    }\n\n    .dataframe tbody tr th {\n        vertical-align: top;\n    }\n\n    .dataframe thead th {\n        text-align: right;\n    }\n</style>\n<table border=\"1\" class=\"dataframe\">\n  <thead>\n    <tr style=\"text-align: right;\">\n      <th></th>\n      <th>name</th>\n      <th>author</th>\n      <th>user_rating</th>\n      <th>reviews</th>\n      <th>price</th>\n      <th>year</th>\n      <th>genre</th>\n    </tr>\n  </thead>\n  <tbody>\n    <tr>\n      <th>0</th>\n      <td>10-Day Green Smoothie Cleanse</td>\n      <td>JJ Smith</td>\n      <td>4.7</td>\n      <td>17350</td>\n      <td>8</td>\n      <td>2016</td>\n      <td>Non Fiction</td>\n    </tr>\n    <tr>\n      <th>1</th>\n      <td>11/22/63: A Novel</td>\n      <td>Stephen King</td>\n      <td>4.6</td>\n      <td>2052</td>\n      <td>22</td>\n      <td>2011</td>\n      <td>Fiction</td>\n    </tr>\n    <tr>\n      <th>2</th>\n      <td>12 Rules for Life: An Antidote to Chaos</td>\n      <td>Jordan B. Peterson</td>\n      <td>4.7</td>\n      <td>18979</td>\n      <td>15</td>\n      <td>2018</td>\n      <td>Non Fiction</td>\n    </tr>\n    <tr>\n      <th>3</th>\n      <td>1984 (Signet Classics)</td>\n      <td>George Orwell</td>\n      <td>4.7</td>\n      <td>21424</td>\n      <td>6</td>\n      <td>2017</td>\n      <td>Fiction</td>\n    </tr>\n    <tr>\n      <th>4</th>\n      <td>5,000 Awesome Facts (About Everything!) (Natio...</td>\n      <td>National Geographic Kids</td>\n      <td>4.8</td>\n      <td>7665</td>\n      <td>12</td>\n      <td>2019</td>\n      <td>Non Fiction</td>\n    </tr>\n  </tbody>\n</table>\n</div>"
          },
          "metadata": {}
        }
      ]
    },
    {
      "cell_type": "code",
      "source": "amazon_data.shape",
      "metadata": {
        "trusted": true
      },
      "execution_count": 4,
      "outputs": [
        {
          "execution_count": 4,
          "output_type": "execute_result",
          "data": {
            "text/plain": "(550, 7)"
          },
          "metadata": {}
        }
      ]
    },
    {
      "cell_type": "code",
      "source": "# Кількість пропусків у кожному стовпці\nmissing_values = amazon_data.isna().sum()\nmissing_values",
      "metadata": {
        "trusted": true
      },
      "execution_count": 9,
      "outputs": [
        {
          "execution_count": 9,
          "output_type": "execute_result",
          "data": {
            "text/plain": "name           0\nauthor         0\nuser_rating    0\nreviews        0\nprice          0\nyear           0\ngenre          0\ndtype: int64"
          },
          "metadata": {}
        }
      ]
    },
    {
      "cell_type": "markdown",
      "source": "Питання : Чи є в якихось змінних пропуски?\nНі",
      "metadata": {}
    },
    {
      "cell_type": "code",
      "source": "# Отримання унікальних значень в стовпці 'genre'\nunique_genres = amazon_data['genre'].unique()\nunique_genres",
      "metadata": {
        "trusted": true
      },
      "execution_count": 11,
      "outputs": [
        {
          "execution_count": 11,
          "output_type": "execute_result",
          "data": {
            "text/plain": "array(['Non Fiction', 'Fiction'], dtype=object)"
          },
          "metadata": {}
        }
      ]
    },
    {
      "cell_type": "markdown",
      "source": "Питання : Які є унікальні жанри? Non Fiction, Fiction",
      "metadata": {}
    },
    {
      "cell_type": "code",
      "source": "max_price = amazon_data['price'].max()\nmin_price = amazon_data['price'].min()\nmean_price = amazon_data['price'].mean()\nmedian_price = amazon_data['price'].median()\n\nprint(\"Максимальна ціна:\", max_price)\nprint(\"Мінімальна ціна:\", min_price)\nprint(\"Середня ціна:\", mean_price)\nprint(\"Медіанна ціна:\", median_price)\n",
      "metadata": {
        "trusted": true
      },
      "execution_count": 13,
      "outputs": [
        {
          "name": "stdout",
          "text": "Максимальна ціна: 105\nМінімальна ціна: 0\nСередня ціна: 13.1\nМедіанна ціна: 11.0\n",
          "output_type": "stream"
        }
      ]
    },
    {
      "cell_type": "code",
      "source": "max_rating = amazon_data['user_rating'].max()\nprint(\"Найвищий рейтинг у датасеті:\", max_rating)\n",
      "metadata": {
        "trusted": true
      },
      "execution_count": 14,
      "outputs": [
        {
          "name": "stdout",
          "text": "Найвищий рейтинг у датасеті: 4.9\n",
          "output_type": "stream"
        }
      ]
    },
    {
      "cell_type": "code",
      "source": "books_with_max_rating = amazon_data[amazon_data['user_rating'] == max_rating]\nnum_books_with_max_rating = len(books_with_max_rating)\nprint(\"Кількість книг із найвищим рейтингом:\", num_books_with_max_rating)\n",
      "metadata": {
        "trusted": true
      },
      "execution_count": 15,
      "outputs": [
        {
          "name": "stdout",
          "text": "Кількість книг із найвищим рейтингом: 52\n",
          "output_type": "stream"
        }
      ]
    },
    {
      "cell_type": "code",
      "source": "max_reviews_book = amazon_data[amazon_data['reviews'] == amazon_data['reviews'].max()]\nprint(\"Книга з найбільшою кількістю відгуків:\")\nprint(max_reviews_book[['name', 'author', 'reviews']])\n",
      "metadata": {
        "trusted": true
      },
      "execution_count": 17,
      "outputs": [
        {
          "name": "stdout",
          "text": "Книга з найбільшою кількістю відгуків:\n                        name       author  reviews\n534  Where the Crawdads Sing  Delia Owens    87841\n",
          "output_type": "stream"
        }
      ]
    },
    {
      "cell_type": "code",
      "source": "max_price_2010 = amazon_data[(amazon_data['year'] == 2010)]['price'].max()\nmost_expensive_book_2010 = amazon_data[(amazon_data['year'] == 2010) & (amazon_data['price'] == max_price_2010)]\nprint(\"Найдорожча книга, яка потрапила до Топ-50 у 2010 році:\")\nprint(most_expensive_book_2010[['name', 'author', 'price']])\n",
      "metadata": {
        "trusted": true
      },
      "execution_count": 18,
      "outputs": [
        {
          "name": "stdout",
          "text": "Найдорожча книга, яка потрапила до Топ-50 у 2010 році:\n                                                  name  \\\n272  Publication Manual of the American Psychologic...   \n\n                                 author  price  \n272  American Psychological Association     46  \n",
          "output_type": "stream"
        }
      ]
    },
    {
      "cell_type": "code",
      "source": "num_fiction_books_2012 = len(amazon_data[(amazon_data['year'] == 2012) & (amazon_data['genre'] == 'Fiction')])\nprint(\"Кількість книг жанру Fiction у Топ-50 у 2012 році:\", num_fiction_books_2012)\n",
      "metadata": {
        "trusted": true
      },
      "execution_count": 19,
      "outputs": [
        {
          "name": "stdout",
          "text": "Кількість книг жанру Fiction у Топ-50 у 2012 році: 21\n",
          "output_type": "stream"
        }
      ]
    },
    {
      "cell_type": "code",
      "source": "num_high_rated_books = len(amazon_data[(amazon_data['user_rating'] == 4.9) & (amazon_data['year'].isin([2010, 2011]))])\nprint(\"Кількість книг з рейтингом 4.9 у 2010 та 2011 роках:\", num_high_rated_books)\n",
      "metadata": {
        "trusted": true
      },
      "execution_count": 20,
      "outputs": [
        {
          "name": "stdout",
          "text": "Кількість книг з рейтингом 4.9 у 2010 та 2011 роках: 1\n",
          "output_type": "stream"
        }
      ]
    },
    {
      "cell_type": "code",
      "source": "",
      "metadata": {},
      "execution_count": null,
      "outputs": []
    }
  ]
}