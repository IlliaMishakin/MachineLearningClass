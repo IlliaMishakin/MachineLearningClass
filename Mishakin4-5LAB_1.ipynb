{
  "metadata": {
    "language_info": {
      "codemirror_mode": {
        "name": "python",
        "version": 3
      },
      "file_extension": ".py",
      "mimetype": "text/x-python",
      "name": "python",
      "nbconvert_exporter": "python",
      "pygments_lexer": "ipython3",
      "version": "3.8"
    },
    "kernelspec": {
      "name": "python",
      "display_name": "Python (Pyodide)",
      "language": "python"
    }
  },
  "nbformat_minor": 4,
  "nbformat": 4,
  "cells": [
    {
      "cell_type": "markdown",
      "source": "Практична робота №1. Варіант 12. Мішакін І. І. 4-5",
      "metadata": {}
    },
    {
      "cell_type": "markdown",
      "source": "Створіть одновимірний масив (вектор) зі зменшувальною арифметичною послідовністю, де кожне наступне число менше попереднього на 4, \nпочинаючи з 50, та виведіть його значення. ",
      "metadata": {}
    },
    {
      "cell_type": "code",
      "source": "import numpy as np",
      "metadata": {
        "trusted": true
      },
      "execution_count": 3,
      "outputs": []
    },
    {
      "cell_type": "code",
      "source": "start = 50\nstep = -4\ncount = 10\n\nsequence = np.arange(start, start + count * step, step)\nsequence",
      "metadata": {
        "trusted": true
      },
      "execution_count": 22,
      "outputs": [
        {
          "execution_count": 22,
          "output_type": "execute_result",
          "data": {
            "text/plain": "array([50, 46, 42, 38, 34, 30, 26, 22, 18, 14])"
          },
          "metadata": {}
        }
      ]
    },
    {
      "cell_type": "markdown",
      "source": "Створіть двовимірний масив (матрицю) розміром 3x3, заповніть його значеннями суми добутків кожного числа на його попереднє, \nпочинаючи з 1, та виведіть його значення. ",
      "metadata": {}
    },
    {
      "cell_type": "code",
      "source": "rows = 3\ncols = 3\n\nmatrix = np.zeros((rows, cols), dtype=int)\nmatrix[0, 0] = 1\nmatrix[0, 1] = 2\nfor i in range(rows):\n    for j in range(cols):\n        if matrix[i, j] != 0:\n            continue\n        if j == 2:\n            matrix[i, j] = matrix[i, j - 1] * (matrix[i, j - 2])\n        elif j == 1:\n            matrix[i, j] = matrix[i, j - 1] * (matrix[i - 1, j + 1])\n        elif j == 0:\n            matrix[i, j] = matrix[i - 1, 2] * (matrix[i - 1, 1])\n        \nmatrix",
      "metadata": {
        "trusted": true
      },
      "execution_count": 21,
      "outputs": [
        {
          "execution_count": 21,
          "output_type": "execute_result",
          "data": {
            "text/plain": "array([[      1,       2,       2],\n       [      4,       8,      32],\n       [    256,    8192, 2097152]])"
          },
          "metadata": {}
        }
      ]
    },
    {
      "cell_type": "markdown",
      "source": "Створіть масив розміром 9x9, заповніть його випадковими цілими числами в діапазоні від -100 до 100 та знайдіть мінімальний елемент. ",
      "metadata": {}
    },
    {
      "cell_type": "code",
      "source": "matrix = np.random.randint(-100, 101, (9, 9))\nmin_element = np.min(matrix)\nmin_element",
      "metadata": {
        "trusted": true
      },
      "execution_count": 26,
      "outputs": [
        {
          "execution_count": 26,
          "output_type": "execute_result",
          "data": {
            "text/plain": "-97"
          },
          "metadata": {}
        }
      ]
    },
    {
      "cell_type": "markdown",
      "source": "Створіть масив розміром 6x6, заповніть його випадковими дійсними числами в діапазоні від 0 до 1 та обчисліть добуток елементів, що менше 0.2. ",
      "metadata": {}
    },
    {
      "cell_type": "code",
      "source": "matrix = np.random.rand(6, 6)\nelements_less_than_0_2 = matrix[matrix < 0.2]\nproduct = np.prod(elements_less_than_0_2)\nproduct",
      "metadata": {
        "trusted": true
      },
      "execution_count": 30,
      "outputs": [
        {
          "execution_count": 30,
          "output_type": "execute_result",
          "data": {
            "text/plain": "3.9528262431563394e-10"
          },
          "metadata": {}
        }
      ]
    },
    {
      "cell_type": "markdown",
      "source": "Створіть два одновимірних масиви розміром 4, заповніть їх випадковими дійсними числами від 0 до 1 та виконайте на них поелементні \nоперації додавання, віднімання та множення. ",
      "metadata": {}
    },
    {
      "cell_type": "code",
      "source": "array1 = np.random.rand(4)\narray2 = np.random.rand(4)\n\nresult_addition = array1 + array2\n\nresult_subtraction = array1 - array2\n\nresult_multiplication = array1 * array2\n\nprint(\"Додавання:\")\nprint(result_addition)\nprint(\"Віднімання:\")\nprint(result_subtraction)\nprint(\"Множення:\")\nprint(result_multiplication)\n",
      "metadata": {
        "trusted": true
      },
      "execution_count": 31,
      "outputs": [
        {
          "name": "stdout",
          "text": "Додавання:\n[1.65316168 1.1334198  0.93249844 0.96772803]\nВіднімання:\n[-0.12017094  0.42361644 -0.0404351  -0.66848466]\nМноження:\n[0.67962562 0.27629739 0.21697959 0.12240645]\n",
          "output_type": "stream"
        }
      ]
    },
    {
      "cell_type": "markdown",
      "source": "Створіть два вектори розміром 4, заповніть їх довільними дійсними числами та знайдіть їх скалярний добуток. ",
      "metadata": {}
    },
    {
      "cell_type": "code",
      "source": "vector1 = np.array([1.5, 2.0, 3.5, 4.0])\nvector2 = np.array([0.5, 1.0, 1.5, 2.0])\n\nscalar_product = np.dot(vector1, vector2)\nscalar_product\n",
      "metadata": {
        "trusted": true
      },
      "execution_count": 32,
      "outputs": [
        {
          "execution_count": 32,
          "output_type": "execute_result",
          "data": {
            "text/plain": "16.0"
          },
          "metadata": {}
        }
      ]
    },
    {
      "cell_type": "markdown",
      "source": "Створіть дві матриці розміром 2x3 та 3x3, заповніть їх випадковими цілими числами в діапазоні від 1 до 10 та перемножте їх між собою. ",
      "metadata": {}
    },
    {
      "cell_type": "code",
      "source": "matrix1 = np.random.randint(1, 11, size=(2, 3))\nmatrix2 = np.random.randint(1, 11, size=(3, 3)) \n\nresult_matrix = np.dot(matrix1, matrix2)\nresult_matrix\n",
      "metadata": {
        "trusted": true
      },
      "execution_count": 33,
      "outputs": [
        {
          "execution_count": 33,
          "output_type": "execute_result",
          "data": {
            "text/plain": "array([[126, 164, 120],\n       [ 37,  74,  47]])"
          },
          "metadata": {}
        }
      ]
    },
    {
      "cell_type": "markdown",
      "source": "Створіть матрицю розміром 3x3, заповніть її випадковими цілими числами в діапазоні від 1 до 8 та знайдіть її обернену матрицю. ",
      "metadata": {}
    },
    {
      "cell_type": "code",
      "source": "matrix = np.random.randint(1, 9, size=(3, 3))\n\nprint(\"Початкова матриця (3x3):\\n\", matrix)\n\ntry:\n    inverse_matrix = np.linalg.inv(matrix)\n    print(\"Обернена матриця:\\n\", inverse_matrix)\nexcept np.linalg.LinAlgError:\n    print(\"Матриця не має оберненої матриці, оскільки вона не є квадратною або її визначник дорівнює 0.\")\n",
      "metadata": {
        "trusted": true
      },
      "execution_count": 34,
      "outputs": [
        {
          "name": "stdout",
          "text": "Початкова матриця (3x3):\n [[4 7 8]\n [7 8 5]\n [8 4 1]]\nОбернена матриця:\n [[ 0.11428571 -0.23809524  0.27619048]\n [-0.31428571  0.57142857 -0.34285714]\n [ 0.34285714 -0.38095238  0.16190476]]\n",
          "output_type": "stream"
        }
      ]
    },
    {
      "cell_type": "markdown",
      "source": "Створіть матрицю розміром 8x8, заповніть її випадковими дійсними числами в діапазоні від 50 до 100 та транспонуйте її. ",
      "metadata": {}
    },
    {
      "cell_type": "code",
      "source": "matrix = np.random.uniform(50, 100, size=(8, 8))\n\nprint(\"Початкова матриця:\\n\", matrix)\nprint(\"Транспонована матриця:\\n\", matrix.T)\n",
      "metadata": {
        "trusted": true
      },
      "execution_count": 35,
      "outputs": [
        {
          "name": "stdout",
          "text": "Початкова матриця:\n [[79.75135391 69.61043786 51.64115584 59.72860419 63.56580312 51.72373767\n  73.11514056 98.54800133]\n [76.34599998 95.40915522 85.1298022  66.09507305 51.34771199 60.0433106\n  73.12525246 64.69383992]\n [95.01518056 50.64179124 51.11722531 78.04951731 94.15793194 69.07979888\n  87.66721893 56.90297786]\n [89.28151463 59.64431568 57.14987987 65.71342396 84.61553369 91.06801012\n  57.73449044 74.14375032]\n [63.4282495  82.02689911 93.54001688 57.17009933 99.60989788 98.26852052\n  87.58465044 57.49057189]\n [50.89892246 89.45985543 50.67878316 65.91968458 56.53447966 83.21495156\n  76.47880876 64.75233   ]\n [75.79895082 77.73079751 70.29130088 57.21391742 68.75054485 74.66060898\n  95.13126128 99.17208843]\n [60.69260339 57.34049702 53.08989482 85.65690764 64.58190857 65.06051864\n  68.51037458 81.07925851]]\nТранспонована матриця:\n [[79.75135391 76.34599998 95.01518056 89.28151463 63.4282495  50.89892246\n  75.79895082 60.69260339]\n [69.61043786 95.40915522 50.64179124 59.64431568 82.02689911 89.45985543\n  77.73079751 57.34049702]\n [51.64115584 85.1298022  51.11722531 57.14987987 93.54001688 50.67878316\n  70.29130088 53.08989482]\n [59.72860419 66.09507305 78.04951731 65.71342396 57.17009933 65.91968458\n  57.21391742 85.65690764]\n [63.56580312 51.34771199 94.15793194 84.61553369 99.60989788 56.53447966\n  68.75054485 64.58190857]\n [51.72373767 60.0433106  69.07979888 91.06801012 98.26852052 83.21495156\n  74.66060898 65.06051864]\n [73.11514056 73.12525246 87.66721893 57.73449044 87.58465044 76.47880876\n  95.13126128 68.51037458]\n [98.54800133 64.69383992 56.90297786 74.14375032 57.49057189 64.75233\n  99.17208843 81.07925851]]\n",
          "output_type": "stream"
        }
      ]
    },
    {
      "cell_type": "markdown",
      "source": "Створіть матрицю розміром 3x4 та вектор розміром 4, заповніть матрицю випадковими дійсними числами від 0 до 1, а вектор - випадковими цілими числами в діапазоні від 1 до 10, і знайдіть суму додатних елементів отриманого вектору. ",
      "metadata": {}
    },
    {
      "cell_type": "code",
      "source": "matrix = np.random.rand(3, 4)\nvector = np.random.randint(1, 11, size=4)\n\nprint(\"Матриця:\\n\", matrix)\nprint(\"Вектор:\\n\", vector)\nprint(\"Сума:\", np.sum(vector[vector > 0]))\n",
      "metadata": {
        "trusted": true
      },
      "execution_count": 37,
      "outputs": [
        {
          "name": "stdout",
          "text": "Матриця:\n [[0.35720244 0.14446946 0.06082187 0.48761762]\n [0.41286751 0.6613562  0.83742734 0.009698  ]\n [0.8955082  0.37606653 0.0897288  0.89401431]]\nВектор:\n [8 7 6 1]\nСума: 22\n",
          "output_type": "stream"
        }
      ]
    },
    {
      "cell_type": "markdown",
      "source": "Створіть матрицю розміром 2x3 та вектор розміром 3, заповніть матрицю випадковими цілими числами в діапазоні від 1 до 10, а вектор - випадковими дійсними числами від 0 до 1, і знайдіть суму елементів матриці, які більше середнього значення матриці. ",
      "metadata": {}
    },
    {
      "cell_type": "code",
      "source": "matrix = np.random.randint(1, 11, size=(2, 3))\nvector = np.random.rand(3)\n\nprint(\"Матриця:\\n\", matrix)\nprint(\"Вектор:\\n\", vector)\n\naverage_matrix_value = np.mean(matrix)\nsum_above_average = np.sum(matrix[matrix > average_matrix_value])\n\nprint(\"Середнє значення матриці:\", average_matrix_value)\nprint(\"Сума елементів матриці, які більше середнього:\", sum_above_average)\n",
      "metadata": {
        "trusted": true
      },
      "execution_count": 38,
      "outputs": [
        {
          "name": "stdout",
          "text": "Матриця:\n [[ 5  6 10]\n [ 9  2  6]]\nВектор:\n [0.60472443 0.20923381 0.67011097]\nСереднє значення матриці: 6.333333333333333\nСума елементів матриці, які більше середнього: 19\n",
          "output_type": "stream"
        }
      ]
    },
    {
      "cell_type": "markdown",
      "source": "Створіть дві матриці розміром 5x5, заповніть їх випадковими цілими числами в діапазоні від 1 до 10 та знайдіть відношення всіх елементів першої матриці до відповідних елементів другої матриці (поелементне ділення). ",
      "metadata": {}
    },
    {
      "cell_type": "code",
      "source": "matrix1 = np.random.randint(1, 11, size=(5, 5))\nmatrix2 = np.random.randint(1, 11, size=(5, 5))\n\nprint(\"Перша матриця:\\n\", matrix1)\nprint(\"Друга матриця:\\n\", matrix2)\nprint(\"Результат:\\n\", np.divide(matrix1, matrix2))\n",
      "metadata": {
        "trusted": true
      },
      "execution_count": 39,
      "outputs": [
        {
          "name": "stdout",
          "text": "Перша матриця:\n [[ 2  8  6  8  1]\n [ 3  5  4  3  5]\n [ 2  1  8  6  3]\n [ 6 10  6  5  2]\n [10  8  6 10  9]]\nДруга матриця:\n [[ 4  1  3  6  4]\n [ 5  5  6  9  1]\n [ 4  6  2 10  8]\n [ 4  4  4  9  7]\n [ 1  6  4  5  4]]\nРезультат:\n [[ 0.5         8.          2.          1.33333333  0.25      ]\n [ 0.6         1.          0.66666667  0.33333333  5.        ]\n [ 0.5         0.16666667  4.          0.6         0.375     ]\n [ 1.5         2.5         1.5         0.55555556  0.28571429]\n [10.          1.33333333  1.5         2.          2.25      ]]\n",
          "output_type": "stream"
        }
      ]
    },
    {
      "cell_type": "markdown",
      "source": "Створіть дві матриці розміром 4x4, заповніть їх випадковими цілими числами в діапазоні від -10 до 10 та знайдіть різницю їх елементів. ",
      "metadata": {}
    },
    {
      "cell_type": "code",
      "source": "matrix1 = np.random.randint(-10, 11, size=(4, 4))\nmatrix2 = np.random.randint(-10, 11, size=(4, 4))\n\nprint(\"Перша матриця:\\n\", matrix1)\nprint(\"Друга матриця:\\n\", matrix2)\nprint(\"Результат (різниця між елементами матриць):\\n\", matrix1 - matrix2)\n",
      "metadata": {
        "trusted": true
      },
      "execution_count": 40,
      "outputs": [
        {
          "name": "stdout",
          "text": "Перша матриця:\n [[ -5  -1  -8   6]\n [ -3   9   2   1]\n [  0 -10  -9   1]\n [ -2  -9   5   0]]\nДруга матриця:\n [[ 10  -9  -5 -10]\n [  4   0   8   4]\n [  3   3   7  -2]\n [  4  -5   0   7]]\nРезультат (різниця між елементами матриць):\n [[-15   8  -3  16]\n [ -7   9  -6  -3]\n [ -3 -13 -16   3]\n [ -6  -4   5  -7]]\n",
          "output_type": "stream"
        }
      ]
    },
    {
      "cell_type": "markdown",
      "source": "Створіть матрицю розміром 10x10, заповніть її випадковими цілими числами в діапазоні від 1 до 100 та знайдіть суму елементів матриці, які менше за їх середнє арифметичне значення. ",
      "metadata": {}
    },
    {
      "cell_type": "code",
      "source": "matrix = np.random.randint(1, 101, size=(10, 10))\nprint(\"матриця:\\n\", matrix)\naverage_value = np.mean(matrix)\nsum_below_average = np.sum(matrix[matrix < average_value])\n\nprint(\"Середнє арифметичне значення елементів матриці:\", average_value)\nprint(\"Сума елементів, які менше за середнє арифметичне значення:\", sum_below_average)\n",
      "metadata": {
        "trusted": true
      },
      "execution_count": 41,
      "outputs": [
        {
          "name": "stdout",
          "text": "матриця:\n [[ 63  35  46   6  69  58  72  99  47  91]\n [ 71  81  94  30  76  32  70  19  84  92]\n [  4  13  80 100  95   7  38  95   4  12]\n [ 39  49  26  88  64  44  91 100  44  72]\n [ 79  53  29  99  92 100  93  12  73   8]\n [ 72  44  24  96  97  63  45  62  11   7]\n [ 23  37  82  76  80  90  50  33  22   2]\n [ 71  69  13  84  29  99  97  83  88  67]\n [ 13  58 100  49  11  38  68  84  25  24]\n [ 52 100  94  18  84  55   2  13  69  44]]\nСереднє арифметичне значення елементів матриці: 56.55\nСума елементів, які менше за середнє арифметичне значення: 1281\n",
          "output_type": "stream"
        }
      ]
    },
    {
      "cell_type": "markdown",
      "source": "Створіть матрицю розміром 6x6, заповніть її випадковими дійсними числами в діапазоні від -2 до 2 та знайдіть вектор-стовпчик, що містить середнє гармонічне значення елементів кожного рядка матриці. ",
      "metadata": {}
    },
    {
      "cell_type": "code",
      "source": "matrix = np.random.uniform(-2, 2, size=(6, 6))\nprint(\"матриця:\\n\", matrix)\n\ndef harmonic_mean(arr):\n    return len(arr) / np.sum(1.0 / arr)\n\nharmonic_means_vector = np.apply_along_axis(harmonic_mean, axis=1, arr=matrix)\n\nprint(\"результат:\\n\", harmonic_means_vector)\n",
      "metadata": {
        "trusted": true
      },
      "execution_count": 42,
      "outputs": [
        {
          "name": "stdout",
          "text": "матриця:\n [[ 1.45166787  1.63518403  0.54557991  1.0648365   1.32237401 -0.78536231]\n [-1.93407415  0.7980382  -0.24597285 -1.53370696  0.56366342  0.06381167]\n [ 0.56292601 -1.69583609  1.09988737 -1.99904407  1.96859612 -1.11742476]\n [ 1.70921044 -0.99654402  0.28767076 -1.3317527  -1.97403015 -0.4548065 ]\n [ 0.34638685 -0.02510611  1.00375077  0.5599896  -0.80256197  1.13536469]\n [ 0.63792432 -0.88499081  0.76931601 -1.17770254  0.80247973  1.12527065]]\nрезультат:\n [  1.68759463   0.44564115   4.96376841 -15.05980228  -0.17377592\n   1.98466094]\n",
          "output_type": "stream"
        }
      ]
    },
    {
      "cell_type": "code",
      "source": "",
      "metadata": {},
      "execution_count": null,
      "outputs": []
    }
  ]
}