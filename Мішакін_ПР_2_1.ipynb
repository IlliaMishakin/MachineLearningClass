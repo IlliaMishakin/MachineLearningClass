{
  "metadata": {
    "language_info": {
      "codemirror_mode": {
        "name": "python",
        "version": 3
      },
      "file_extension": ".py",
      "mimetype": "text/x-python",
      "name": "python",
      "nbconvert_exporter": "python",
      "pygments_lexer": "ipython3",
      "version": "3.8"
    },
    "kernelspec": {
      "name": "python",
      "display_name": "Python (Pyodide)",
      "language": "python"
    }
  },
  "nbformat_minor": 4,
  "nbformat": 4,
  "cells": [
    {
      "cell_type": "code",
      "source": "import pandas as pd\nimport matplotlib as plt",
      "metadata": {
        "trusted": true
      },
      "execution_count": 21,
      "outputs": []
    },
    {
      "cell_type": "raw",
      "source": "youtube_data = pd.read_csv('data/Global YouTube Statistics.csv')\nyoutube_data.head()",
      "metadata": {}
    },
    {
      "cell_type": "code",
      "source": "youtube_data.shape",
      "metadata": {
        "trusted": true
      },
      "execution_count": 10,
      "outputs": [
        {
          "execution_count": 10,
          "output_type": "execute_result",
          "data": {
            "text/plain": "(995, 28)"
          },
          "metadata": {}
        }
      ]
    },
    {
      "cell_type": "code",
      "source": "youtube_data.isna().sum()",
      "metadata": {
        "trusted": true
      },
      "execution_count": 12,
      "outputs": [
        {
          "execution_count": 12,
          "output_type": "execute_result",
          "data": {
            "text/plain": "rank                                         0\nYoutuber                                     0\nsubscribers                                  0\nvideo views                                  0\ncategory                                    46\nTitle                                        0\nuploads                                      0\nCountry                                    122\nAbbreviation                               122\nchannel_type                                30\nvideo_views_rank                             1\ncountry_rank                               116\nchannel_type_rank                           33\nvideo_views_for_the_last_30_days            56\nlowest_monthly_earnings                      0\nhighest_monthly_earnings                     0\nlowest_yearly_earnings                       0\nhighest_yearly_earnings                      0\nsubscribers_for_last_30_days               337\ncreated_year                                 5\ncreated_month                                5\ncreated_date                                 5\nGross tertiary education enrollment (%)    123\nPopulation                                 123\nUnemployment rate                          123\nUrban_population                           123\nLatitude                                   123\nLongitude                                  123\ndtype: int64"
          },
          "metadata": {}
        }
      ]
    },
    {
      "cell_type": "code",
      "source": "# Заміна пропусків на NaN\nyoutube_data = youtube_data.fillna(pd.NA)\n\n# Зміна типу даних на числовий\nyoutube_data = youtube_data.apply(pd.to_numeric, errors='coerce')\n\n# Заміна пропусків на середні значення за стовпцем\nyoutube_data = youtube_data.fillna(youtube_data.mean())\n\n# Зміна типу даних на float\nyoutube_data = youtube_data.astype(float)\n",
      "metadata": {
        "trusted": true
      },
      "execution_count": 14,
      "outputs": []
    },
    {
      "cell_type": "code",
      "source": "# Перевірка кількості пропусків після заміни\nprint(youtube_data.isna().sum())\n",
      "metadata": {
        "trusted": true
      },
      "execution_count": 15,
      "outputs": [
        {
          "name": "stdout",
          "text": "rank                                         0\nYoutuber                                   995\nsubscribers                                  0\nvideo views                                  0\ncategory                                   995\nTitle                                      995\nuploads                                      0\nCountry                                    995\nAbbreviation                               995\nchannel_type                               995\nvideo_views_rank                             0\ncountry_rank                                 0\nchannel_type_rank                            0\nvideo_views_for_the_last_30_days             0\nlowest_monthly_earnings                      0\nhighest_monthly_earnings                     0\nlowest_yearly_earnings                       0\nhighest_yearly_earnings                      0\nsubscribers_for_last_30_days                 0\ncreated_year                                 0\ncreated_month                              995\ncreated_date                                 0\nGross tertiary education enrollment (%)      0\nPopulation                                   0\nUnemployment rate                            0\nUrban_population                             0\nLatitude                                     0\nLongitude                                    0\ndtype: int64\n",
          "output_type": "stream"
        }
      ]
    },
    {
      "cell_type": "code",
      "source": "# Кількість унікальних країн\nunique_countries = youtube_data['Country'].nunique()\nprint(\"Кількість унікальних країн:\", unique_countries)\n",
      "metadata": {
        "trusted": true
      },
      "execution_count": 16,
      "outputs": [
        {
          "name": "stdout",
          "text": "Кількість унікальних країн: 0\n",
          "output_type": "stream"
        }
      ]
    },
    {
      "cell_type": "code",
      "source": "# Побудова діаграми розподілу переглядів\nyoutube_data['video views'].plot(kind='hist', bins=20)\n",
      "metadata": {
        "trusted": true
      },
      "execution_count": 22,
      "outputs": [
        {
          "execution_count": 22,
          "output_type": "execute_result",
          "data": {
            "text/plain": "<AxesSubplot:ylabel='Frequency'>"
          },
          "metadata": {}
        },
        {
          "output_type": "display_data",
          "data": {
            "text/plain": "<Figure size 640x480 with 1 Axes>",
            "image/png": "[encoded data removed]"
          },
          "metadata": {}
        }
      ]
    },
    {
      "cell_type": "code",
      "source": "max_views = youtube_data['video views'].max()\nmin_views = youtube_data['video views'].min()\nmean_views = youtube_data['video views'].mean()\n\nprint(\"Максимальна кількість переглядів:\", max_views)\nprint(\"Мінімальна кількість переглядів:\", min_views)\nprint(\"Середня кількість переглядів:\", mean_views)\n",
      "metadata": {
        "trusted": true
      },
      "execution_count": 25,
      "outputs": [
        {
          "name": "stdout",
          "text": "Максимальна кількість переглядів: 228000000000.0\nМінімальна кількість переглядів: 0.0\nСередня кількість переглядів: 11039537052.03819\n",
          "output_type": "stream"
        }
      ]
    },
    {
      "cell_type": "code",
      "source": "youtube_data['Country'].fillna(\"Unknown\", inplace=True)\n\nmost_video_country = youtube_data['Country'].value_counts().idxmax()\nprint(\"Країна з найбільшою кількістю відео:\", most_video_country)\n",
      "metadata": {
        "trusted": true
      },
      "execution_count": 29,
      "outputs": [
        {
          "name": "stdout",
          "text": "Країна з найбільшою кількістю відео: Unknown\n",
          "output_type": "stream"
        }
      ]
    },
    {
      "cell_type": "code",
      "source": "max_uploads_video = youtube_data[youtube_data['uploads'] == youtube_data['uploads'].max()]['Title'].iloc[0]\nmin_uploads_video = youtube_data[youtube_data['uploads'] == youtube_data['uploads'].min()]['Title'].iloc[0]\n\nprint(\"Відео з найбільшою кількістю uploads:\", max_uploads_video)\nprint(\"Відео з найменшою кількістю uploads:\", min_uploads_video)\n",
      "metadata": {
        "trusted": true
      },
      "execution_count": 30,
      "outputs": [
        {
          "name": "stdout",
          "text": "Відео з найбільшою кількістю uploads: nan\nВідео з найменшою кількістю uploads: nan\n",
          "output_type": "stream"
        }
      ]
    },
    {
      "cell_type": "code",
      "source": "",
      "metadata": {},
      "execution_count": null,
      "outputs": []
    }
  ]
}